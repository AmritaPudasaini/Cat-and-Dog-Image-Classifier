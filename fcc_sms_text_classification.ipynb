{
  "cells": [
    {
      "cell_type": "code",
      "execution_count": null,
      "metadata": {
        "id": "8RZOuS9LWQvv"
      },
      "outputs": [],
      "source": [
        "# import libraries\n",
        "try:\n",
        "  # %tensorflow_version only exists in Colab.\n",
        "  !pip install tf-nightly\n",
        "except Exception:\n",
        "  pass\n",
        "import tensorflow as tf\n",
        "import pandas as pd\n",
        "from tensorflow import keras\n",
        "!pip install tensorflow-datasets\n",
        "import tensorflow_datasets as tfds\n",
        "import numpy as np\n",
        "import matplotlib.pyplot as plt\n",
        "\n",
        "\n",
        "print(tf.__version__)"
      ]
    },
    {
      "cell_type": "code",
      "execution_count": null,
      "metadata": {
        "id": "lMHwYXHXCar3"
      },
      "outputs": [],
      "source": [
        "# get data files\n",
        "!wget https://cdn.freecodecamp.org/project-data/sms/train-data.tsv\n",
        "!wget https://cdn.freecodecamp.org/project-data/sms/valid-data.tsv\n",
        "\n",
        "train_file_path = \"train-data.tsv\"\n",
        "test_file_path = \"valid-data.tsv\"\n",
        "\n",
        "import pandas as pd\n",
        "from sklearn.model_selection import train_test_split\n",
        "\n",
        "df = pd.read_csv('train-data.tsv', sep='\\t', names=['label', 'message'])\n",
        "df.head()\n",
        "\n",
        "# Split into train and test sets\n",
        "train_data, test_data = train_test_split(df, test_size=0.2, random_state=42)"
      ]
    },
    {
      "cell_type": "code",
      "execution_count": null,
      "metadata": {
        "id": "g_h508FEClxO"
      },
      "outputs": [],
      "source": [
        "encoder = LabelEncoder()\n",
        "y_train_bin = encoder.fit_transform(train_data['label'])\n",
        "y_test_bin = encoder.transform(test_data['label'])"
      ]
    },
    {
      "cell_type": "code",
      "execution_count": null,
      "metadata": {
        "id": "zOMKywn4zReN"
      },
      "outputs": [],
      "source": [
        "model = make_pipeline(TfidfVectorizer(), MultinomialNB())"
      ]
    },
    {
      "cell_type": "code",
      "source": [
        "model.fit(train_data['message'], y_train_bin)"
      ],
      "metadata": {
        "id": "hJwcv2_Zp-QR"
      },
      "execution_count": null,
      "outputs": []
    },
    {
      "cell_type": "code",
      "execution_count": null,
      "metadata": {
        "id": "J9tD9yACG6M9"
      },
      "outputs": [],
      "source": [
        "# function to predict messages based on model\n",
        "# (should return list containing prediction and label, ex. [0.008318834938108921, 'ham'])\n",
        "def predict_message(pred_text):\n",
        "    probas = model.predict_proba([pred_text])[0]\n",
        "    spam_prob = probas[1]\n",
        "    threshold = 0.25\n",
        "    prediction = \"spam\" if spam_prob > threshold else \"ham\"\n",
        "    return [float(spam_prob), prediction]\n",
        "\n",
        "# Test the function\n",
        "pred_text = \"how are you doing today?\"\n",
        "prediction = predict_message(pred_text)\n",
        "print(prediction)\n"
      ]
    },
    {
      "cell_type": "code",
      "execution_count": null,
      "metadata": {
        "id": "Dxotov85SjsC"
      },
      "outputs": [],
      "source": [
        "def test_predictions():\n",
        "    test_messages = [\n",
        "        \"how are you doing today\",\n",
        "        \"sale today! to stop texts call 98912460324\",\n",
        "        \"i dont want to go. can we try it a different day? available sat\",\n",
        "        \"our new mobile video service is live. just install on your phone to start watching.\",\n",
        "        \"you have won £1000 cash! call to claim your prize.\",\n",
        "        \"i'll bring it tomorrow. don't forget the milk.\",\n",
        "        \"wow, is your arm alright. that happened to me one time too\"\n",
        "    ]\n",
        "\n",
        "    test_answers = [\"ham\", \"spam\", \"ham\", \"spam\", \"spam\", \"ham\", \"ham\"]\n",
        "    passed = True\n",
        "\n",
        "    for msg, ans in zip(test_messages, test_answers):\n",
        "        prediction = predict_message(msg)\n",
        "        print(f\"Message: {msg}\")\n",
        "        print(f\"Predicted: {prediction[1]}, Expected: {ans}\")\n",
        "        print(f\"Spam Probability: {prediction[0]:.4f}\\n\")\n",
        "        if prediction[1] != ans:\n",
        "            passed = False\n",
        "\n",
        "    if passed:\n",
        "        print(\"You passed the challenge. Great job!\")\n",
        "    else:\n",
        "        print(\"You haven't passed yet. Keep trying.\")\n",
        "\n",
        "# Run the test\n",
        "test_predictions()\n"
      ]
    }
  ],
  "metadata": {
    "colab": {
      "name": "fcc_sms_text_classification.ipynb",
      "private_outputs": true,
      "provenance": []
    },
    "kernelspec": {
      "display_name": "Python 3",
      "name": "python3"
    },
    "language_info": {}
  },
  "nbformat": 4,
  "nbformat_minor": 0
}